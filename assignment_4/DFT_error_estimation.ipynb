{
 "cells": [
  {
   "cell_type": "markdown",
   "id": "e4b73289",
   "metadata": {},
   "source": [
    "# CHE 1148 Assignment 4\n",
    "## 1. Data quality  -DFT error estimation "
   ]
  },
  {
   "cell_type": "code",
   "execution_count": null,
   "id": "c5eac7f2",
   "metadata": {},
   "outputs": [],
   "source": []
  }
 ],
 "metadata": {
  "kernelspec": {
   "display_name": "Python 3 (ipykernel)",
   "language": "python",
   "name": "python3"
  },
  "language_info": {
   "codemirror_mode": {
    "name": "ipython",
    "version": 3
   },
   "file_extension": ".py",
   "mimetype": "text/x-python",
   "name": "python",
   "nbconvert_exporter": "python",
   "pygments_lexer": "ipython3",
   "version": "3.9.12"
  }
 },
 "nbformat": 4,
 "nbformat_minor": 5
}
